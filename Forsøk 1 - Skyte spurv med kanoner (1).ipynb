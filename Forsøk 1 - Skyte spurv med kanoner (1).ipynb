{
 "cells": [
  {
   "cell_type": "markdown",
   "metadata": {},
   "source": [
    "# *Forsøk 1*\n",
    "### _Skyte spurv med kanoner_"
   ]
  },
  {
   "cell_type": "markdown",
   "metadata": {},
   "source": [
    "Vi har i dette forsøket laget et program, som kan regne ut lengden en kule (spurv) vil bli skutt utifra forskjellige vinkler. Vi har utført forsøket og samlet verdier ved hjelp av øyemål (lengde) og pasco capstone (fart). Farten vi målte i Capstone, brukte vi deretter i programmet vårt, for å regne ut den teoretiske lengden kulen vil fly. Vi har også regnet avvik i  prosent, for å se hvor nøyaktig de forskjellige målingene var i forhold til den teoretiske lengden. Dette avviket varierte VELDIG."
   ]
  },
  {
   "cell_type": "markdown",
   "metadata": {},
   "source": [
    "| Fart i m/s| Lengde i cm | Grader | Lengde i cm fra program | Avvik i prosent|\n",
    "|------|--------|--------|--------------------|-------|\n",
    "|3.09|89|18|57|56.1|\n",
    "|3.17|72|60|88|18.1|\n",
    "|3.23|85|60|92|7.6|\n",
    "|3.29|100|30|95|5.3|\n",
    "|3.21|102|45|105|2.9|\n",
    "|3.21|100|45|105|4.7|\n",
    "|3.27|115|36|103|11.7|\n",
    "|3.25|116|36|102|13.7|\n",
    "\n",
    "\n"
   ]
  },
  {
   "cell_type": "markdown",
   "metadata": {},
   "source": [
    "### Programmet vi lagde"
   ]
  },
  {
   "cell_type": "code",
   "execution_count": 8,
   "metadata": {},
   "outputs": [
    {
     "name": "stdout",
     "output_type": "stream",
     "text": [
      "\n",
      " Grader: 45\n",
      "\n",
      " Startfart: 3.21\n",
      "\n",
      " Startverdi for newtons metode (vi anbefaler 3): 3\n",
      "\n",
      "Ballen vil fly 1.050390134975731 meter\n"
     ]
    }
   ],
   "source": [
    "#importer\n",
    "from math import *\n",
    "\n",
    "#Konstanter\n",
    "\n",
    "n = float(input(\"\\n Grader: \"))                                          #Vinkel i grader\n",
    "v0 = float(input(\"\\n Startfart: \"))                                      #m/s\n",
    "a = float(input(\"\\n Startverdi for newtons metode (vi anbefaler 3): \"))  #valgt startverdi\n",
    "q = (n/180) * pi                                                         #vinkel gjort om til radianer\n",
    "g = 9.81                                                                 #m/s^2\n",
    "tol = 0.0001                                                             #toleranse\n",
    "c = a\n",
    "i = 0               \n",
    "\n",
    "\n",
    "#Newtons metode\n",
    "\n",
    "def y(t):\n",
    "    return v0 * sin(q) * t - 0.5 * g * t**2\n",
    "\n",
    "def y_der(t):\n",
    "    return v0 * sin(q) - g * t\n",
    "\n",
    "while abs(y(c)) > tol:\n",
    "    c = a - y(a)/y_der(a)\n",
    "    a = c\n",
    "    i += 1\n",
    "    \n",
    "\"\"\"\n",
    "Unødvendig, men koselig print:)\n",
    "\n",
    "print(\"\\n Nullpunktet er\", round(c,3), \"\\n Løkken gikk\", i, \"ganger\")\n",
    "\"\"\"\n",
    "\n",
    "#Utvidet del av programmet \n",
    "\n",
    "def x(t):\n",
    "    return v0 * cos(q) * t\n",
    "\n",
    "strekning = x(c)\n",
    "\n",
    "print(\"\\nBallen vil fly\", strekning, \"meter\")"
   ]
  },
  {
   "cell_type": "markdown",
   "metadata": {},
   "source": [
    "### Program som regner ut avvik"
   ]
  },
  {
   "cell_type": "code",
   "execution_count": 9,
   "metadata": {},
   "outputs": [
    {
     "name": "stdout",
     "output_type": "stream",
     "text": [
      "Lengde i meter: 1.02\n",
      "Det er  2.89  prosent avvik.\n"
     ]
    }
   ],
   "source": [
    "t = strekning                               #Teoretisk lengde\n",
    "e = float(input(\"Lengde i meter: \"))        #Eksprementell lengde\n",
    "\n",
    "avvik = ((abs(t - e))/t) * 100\n",
    "\n",
    "print(\"Det er \", round(avvik,2),\" prosent avvik.\")"
   ]
  },
  {
   "cell_type": "markdown",
   "metadata": {},
   "source": [
    "### Feilkilder\n",
    "\n",
    "* Feil mål av vinkel \n",
    "    * målte på underside av planken (dette gjør at teoretisk legde blir mindre enn eksprimentell lengde \n",
    "    * feil senter av gradskive når vi måler vinkel\n",
    "* unøyaktig mål av lengde (øyemål)\n",
    "* Avrundinger"
   ]
  },
  {
   "cell_type": "code",
   "execution_count": null,
   "metadata": {},
   "outputs": [],
   "source": []
  }
 ],
 "metadata": {
  "kernelspec": {
   "display_name": "Python 3",
   "language": "python",
   "name": "python3"
  },
  "language_info": {
   "codemirror_mode": {
    "name": "ipython",
    "version": 3
   },
   "file_extension": ".py",
   "mimetype": "text/x-python",
   "name": "python",
   "nbconvert_exporter": "python",
   "pygments_lexer": "ipython3",
   "version": "3.6.5"
  }
 },
 "nbformat": 4,
 "nbformat_minor": 2
}
